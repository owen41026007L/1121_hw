{
 "cells": [
  {
   "cell_type": "code",
   "execution_count": 1,
   "id": "3fbef498",
   "metadata": {},
   "outputs": [
    {
     "name": "stdout",
     "output_type": "stream",
     "text": [
      "輸入上市櫃公司代號（以空格分隔）：2303\n"
     ]
    },
    {
     "ename": "NameError",
     "evalue": "name 'revenue_data' is not defined",
     "output_type": "error",
     "traceback": [
      "\u001b[1;31m---------------------------------------------------------------------------\u001b[0m",
      "\u001b[1;31mNameError\u001b[0m                                 Traceback (most recent call last)",
      "Cell \u001b[1;32mIn[1], line 62\u001b[0m\n\u001b[0;32m     59\u001b[0m     save_to_csv(revenue_data_list)\n\u001b[0;32m     61\u001b[0m \u001b[38;5;28;01mif\u001b[39;00m \u001b[38;5;18m__name__\u001b[39m \u001b[38;5;241m==\u001b[39m \u001b[38;5;124m\"\u001b[39m\u001b[38;5;124m__main__\u001b[39m\u001b[38;5;124m\"\u001b[39m:\n\u001b[1;32m---> 62\u001b[0m     main()\n",
      "Cell \u001b[1;32mIn[1], line 55\u001b[0m, in \u001b[0;36mmain\u001b[1;34m()\u001b[0m\n\u001b[0;32m     51\u001b[0m revenue_data_list \u001b[38;5;241m=\u001b[39m []\n\u001b[0;32m     53\u001b[0m \u001b[38;5;28;01mfor\u001b[39;00m stock_code \u001b[38;5;129;01min\u001b[39;00m stock_codes:\n\u001b[0;32m     54\u001b[0m     \u001b[38;5;66;03m# 獲取公司營收數據\u001b[39;00m\n\u001b[1;32m---> 55\u001b[0m     revenue_data \u001b[38;5;241m=\u001b[39m get_company_data(stock_code)\n\u001b[0;32m     56\u001b[0m     revenue_data_list\u001b[38;5;241m.\u001b[39mappend(revenue_data)\n\u001b[0;32m     58\u001b[0m \u001b[38;5;66;03m# 將數據寫入CSV檔案\u001b[39;00m\n",
      "Cell \u001b[1;32mIn[1], line 31\u001b[0m, in \u001b[0;36mget_company_data\u001b[1;34m(stock_code)\u001b[0m\n\u001b[0;32m     25\u001b[0m soup \u001b[38;5;241m=\u001b[39m BeautifulSoup(response\u001b[38;5;241m.\u001b[39mtext, \u001b[38;5;124m'\u001b[39m\u001b[38;5;124mhtml.parser\u001b[39m\u001b[38;5;124m'\u001b[39m)\n\u001b[0;32m     27\u001b[0m \u001b[38;5;66;03m# 解析網頁，獲取相應的數據\u001b[39;00m\n\u001b[0;32m     28\u001b[0m \u001b[38;5;66;03m# ...\u001b[39;00m\n\u001b[0;32m     29\u001b[0m \n\u001b[0;32m     30\u001b[0m \u001b[38;5;66;03m# 返回營收數據\u001b[39;00m\n\u001b[1;32m---> 31\u001b[0m \u001b[38;5;28;01mreturn\u001b[39;00m revenue_data\n",
      "\u001b[1;31mNameError\u001b[0m: name 'revenue_data' is not defined"
     ]
    }
   ],
   "source": [
    "import requests\n",
    "from bs4 import BeautifulSoup\n",
    "import csv\n",
    "\n",
    "def get_company_data(stock_code):\n",
    "    url = \"https://mops.twse.com.tw/mops/web/t05st10_ifrs\"\n",
    "\n",
    "    # 使用 POST 請求，模擬瀏覽器行為\n",
    "    payload = {\n",
    "        'encodeURIComponent': '1',\n",
    "        'step': '1',\n",
    "        'firstin': '1',\n",
    "        'off': '1',\n",
    "        'queryName': 'co_id',\n",
    "        'inpuType': 'co_id',\n",
    "        'TYPEK': 'all',\n",
    "        'isnew': 'true',\n",
    "        'co_id': stock_code,\n",
    "    }\n",
    "    headers = {\n",
    "        'User-Agent': 'Mozilla/5.0 (Windows NT 10.0; Win64; x64) AppleWebKit/537.36 (KHTML, like Gecko) Chrome/91.0.4472.124 Safari/537.36',\n",
    "    }\n",
    "\n",
    "    response = requests.post(url, data=payload, headers=headers)\n",
    "    soup = BeautifulSoup(response.text, 'html.parser')\n",
    "\n",
    "    # 解析網頁，獲取相應的數據\n",
    "    # ...\n",
    "\n",
    "    # 返回營收數據\n",
    "    return revenue_data\n",
    "\n",
    "def save_to_csv(data, filename='revenue_data.csv'):\n",
    "    # 將數據寫入CSV檔案\n",
    "    with open(filename, 'w', newline='', encoding='utf-8') as csvfile:\n",
    "        fieldnames = ['公司代號', '公司名稱', '本月營收金額', '增減百分比（本月）', '增減百分比（累計）']\n",
    "        writer = csv.DictWriter(csvfile, fieldnames=fieldnames)\n",
    "\n",
    "        # 寫入標題行\n",
    "        writer.writeheader()\n",
    "\n",
    "        # 寫入數據\n",
    "        for row in data:\n",
    "            writer.writerow(row)\n",
    "\n",
    "def main():\n",
    "    # 輸入上市櫃公司代號\n",
    "    stock_codes = input(\"輸入上市櫃公司代號（以空格分隔）：\").split()\n",
    "\n",
    "    # 存儲營收數據的列表\n",
    "    revenue_data_list = []\n",
    "\n",
    "    for stock_code in stock_codes:\n",
    "        # 獲取公司營收數據\n",
    "        revenue_data = get_company_data(stock_code)\n",
    "        revenue_data_list.append(revenue_data)\n",
    "\n",
    "    # 將數據寫入CSV檔案\n",
    "    save_to_csv(revenue_data_list)\n",
    "\n",
    "if __name__ == \"__main__\":\n",
    "    main()\n"
   ]
  },
  {
   "cell_type": "code",
   "execution_count": null,
   "id": "8e0fc4ac",
   "metadata": {},
   "outputs": [],
   "source": []
  }
 ],
 "metadata": {
  "kernelspec": {
   "display_name": "Python 3 (ipykernel)",
   "language": "python",
   "name": "python3"
  },
  "language_info": {
   "codemirror_mode": {
    "name": "ipython",
    "version": 3
   },
   "file_extension": ".py",
   "mimetype": "text/x-python",
   "name": "python",
   "nbconvert_exporter": "python",
   "pygments_lexer": "ipython3",
   "version": "3.11.4"
  }
 },
 "nbformat": 4,
 "nbformat_minor": 5
}
